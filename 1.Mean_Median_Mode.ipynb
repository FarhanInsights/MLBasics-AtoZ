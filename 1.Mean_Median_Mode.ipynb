{
 "cells": [
  {
   "cell_type": "code",
   "execution_count": 2,
   "id": "6d32fdb8-6d8c-449c-b492-83151bf1093a",
   "metadata": {},
   "outputs": [],
   "source": [
    "def calculate_mean(data):\n",
    "    mean = sum(data)/len(data)\n",
    "    return mean"
   ]
  },
  {
   "cell_type": "code",
   "execution_count": 3,
   "id": "a3d26b5d-055f-4492-8a15-e656a8b37134",
   "metadata": {},
   "outputs": [
    {
     "name": "stdout",
     "output_type": "stream",
     "text": [
      "Calculate mean: 30.0\n"
     ]
    }
   ],
   "source": [
    "dataset = [10,20,30,40,50]\n",
    "result_mean = calculate_mean(dataset)\n",
    "print('Calculate mean:',result_mean)"
   ]
  },
  {
   "cell_type": "code",
   "execution_count": 8,
   "id": "4e0b523f-cdba-4d25-9718-c7771ee98467",
   "metadata": {},
   "outputs": [],
   "source": [
    "def calculate_median(data):\n",
    "    data.sort()\n",
    "    n = len(data)\n",
    "    mid = n//2\n",
    "\n",
    "    if n % 2 ==0:\n",
    "        median = (data[mid - 1] + data[mid])/2\n",
    "    else:\n",
    "        median = data[mid]\n",
    "    return(median)"
   ]
  },
  {
   "cell_type": "code",
   "execution_count": null,
   "id": "584bd407-87a5-4d43-820c-955885702d71",
   "metadata": {},
   "outputs": [],
   "source": []
  },
  {
   "cell_type": "code",
   "execution_count": 9,
   "id": "84d666f4-61cf-4e51-b631-b0cf1cd5f5f2",
   "metadata": {},
   "outputs": [
    {
     "name": "stdout",
     "output_type": "stream",
     "text": [
      "Median is: 17.0\n"
     ]
    }
   ],
   "source": [
    "dataset = [10,12,24,16,18,20]\n",
    "result_median = calculate_median(dataset)\n",
    "print(\"Median is:\",result_median)"
   ]
  },
  {
   "cell_type": "code",
   "execution_count": 10,
   "id": "502e3f43-d06b-4811-8658-a690ddb02683",
   "metadata": {},
   "outputs": [
    {
     "name": "stdout",
     "output_type": "stream",
     "text": [
      "Mode is: 3\n"
     ]
    }
   ],
   "source": [
    "from statistics import mode\n",
    "dataset = [1,2,3,4,5,3,6,7,89,3,55,3,6,33]\n",
    "result_mode = mode(dataset)\n",
    "print(\"Mode is:\",result_mode)"
   ]
  },
  {
   "cell_type": "code",
   "execution_count": null,
   "id": "ab037009-d94f-44f6-a8d5-983a70656af6",
   "metadata": {},
   "outputs": [],
   "source": []
  }
 ],
 "metadata": {
  "kernelspec": {
   "display_name": "Python 3 (ipykernel)",
   "language": "python",
   "name": "python3"
  },
  "language_info": {
   "codemirror_mode": {
    "name": "ipython",
    "version": 3
   },
   "file_extension": ".py",
   "mimetype": "text/x-python",
   "name": "python",
   "nbconvert_exporter": "python",
   "pygments_lexer": "ipython3",
   "version": "3.11.4"
  }
 },
 "nbformat": 4,
 "nbformat_minor": 5
}
