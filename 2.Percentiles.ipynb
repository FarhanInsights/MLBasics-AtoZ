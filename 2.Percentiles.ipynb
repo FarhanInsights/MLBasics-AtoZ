{
 "cells": [
  {
   "cell_type": "code",
   "execution_count": 1,
   "id": "74195136-a703-43c2-bc0a-2b7d4d81c8a1",
   "metadata": {},
   "outputs": [],
   "source": [
    "import numpy as np"
   ]
  },
  {
   "cell_type": "code",
   "execution_count": 5,
   "id": "aac965bc-bb37-4bc3-9031-6d6374bc857c",
   "metadata": {},
   "outputs": [
    {
     "name": "stdout",
     "output_type": "stream",
     "text": [
      "Percentile for 75%: 25.0\n"
     ]
    }
   ],
   "source": [
    "import numpy as np\n",
    "\n",
    "def calculate_percentile(data, percentile):\n",
    "    return np.percentile(data, percentile)\n",
    "\n",
    "data_set_1 = [10, 15, 20, 25, 30]\n",
    "percentile_result_1 = calculate_percentile(data_set_1, percentile=75)\n",
    "\n",
    "print(\"Percentile for 75%:\", percentile_result_1)\n"
   ]
  },
  {
   "cell_type": "code",
   "execution_count": 7,
   "id": "90c72b32-b41a-4612-b40e-36113a6e0ba3",
   "metadata": {},
   "outputs": [
    {
     "name": "stdout",
     "output_type": "stream",
     "text": [
      "50th percentile is: 30.0\n"
     ]
    }
   ],
   "source": [
    "data_set_2 = [5,10,20,30,40,45,50]\n",
    "percentile_result_2 =calculate_percentile(data_set_2, percentile=50)\n",
    "print(\"50th percentile is:\",percentile_result_2)"
   ]
  },
  {
   "cell_type": "code",
   "execution_count": null,
   "id": "d01a7fc1-f7b3-42e2-bedb-5f44ba84de5f",
   "metadata": {},
   "outputs": [],
   "source": []
  },
  {
   "cell_type": "code",
   "execution_count": null,
   "id": "f95fd112-4fbf-4464-bb15-1066628d66c6",
   "metadata": {},
   "outputs": [],
   "source": []
  },
  {
   "cell_type": "code",
   "execution_count": null,
   "id": "c0d22df1-6216-4e66-8c8f-5d66405248a1",
   "metadata": {},
   "outputs": [],
   "source": []
  }
 ],
 "metadata": {
  "kernelspec": {
   "display_name": "Python 3 (ipykernel)",
   "language": "python",
   "name": "python3"
  },
  "language_info": {
   "codemirror_mode": {
    "name": "ipython",
    "version": 3
   },
   "file_extension": ".py",
   "mimetype": "text/x-python",
   "name": "python",
   "nbconvert_exporter": "python",
   "pygments_lexer": "ipython3",
   "version": "3.11.4"
  }
 },
 "nbformat": 4,
 "nbformat_minor": 5
}
