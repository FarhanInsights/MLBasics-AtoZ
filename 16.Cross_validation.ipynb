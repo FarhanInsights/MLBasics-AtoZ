{
 "cells": [
  {
   "cell_type": "code",
   "execution_count": 1,
   "id": "06ceefab-684c-4a13-8334-aa75b254521f",
   "metadata": {},
   "outputs": [],
   "source": [
    "from sklearn.datasets import load_iris\n",
    "from sklearn.model_selection import KFold, cross_val_score\n",
    "from sklearn.svm import SVC"
   ]
  },
  {
   "cell_type": "code",
   "execution_count": 3,
   "id": "3bf15a72-c872-42e4-8fe9-12c9497cfd83",
   "metadata": {},
   "outputs": [],
   "source": [
    "iris = load_iris()\n",
    "X, y = iris.data, iris.target"
   ]
  },
  {
   "cell_type": "code",
   "execution_count": 5,
   "id": "b992e018-33d8-4eb3-868e-ae218ed81185",
   "metadata": {},
   "outputs": [],
   "source": [
    "svm_classifier = SVC(kernel='linear', C=1)"
   ]
  },
  {
   "cell_type": "code",
   "execution_count": 6,
   "id": "87fc77a4-4653-4503-91c5-0378d0b6f478",
   "metadata": {},
   "outputs": [],
   "source": [
    "kfold = KFold(n_splits=5, shuffle=True,random_state=42)\n",
    "accuracy_scores = cross_val_score(svm_classifier, X,y, cv=kfold)"
   ]
  },
  {
   "cell_type": "code",
   "execution_count": 9,
   "id": "ce2f8000-659f-4814-85c3-e6df60a0e39a",
   "metadata": {},
   "outputs": [
    {
     "name": "stdout",
     "output_type": "stream",
     "text": [
      "Accuracy Scores for each fold: [1.         1.         0.96666667 0.93333333 0.96666667]\n",
      "Mean Accuracy: 0.9733333333333334\n"
     ]
    }
   ],
   "source": [
    "print(\"Accuracy Scores for each fold:\",accuracy_scores)\n",
    "print(\"Mean Accuracy:\",accuracy_scores.mean())"
   ]
  },
  {
   "cell_type": "code",
   "execution_count": null,
   "id": "546978c2-f0ff-4b0a-bf72-b0722022f84c",
   "metadata": {},
   "outputs": [],
   "source": []
  }
 ],
 "metadata": {
  "kernelspec": {
   "display_name": "Python 3 (ipykernel)",
   "language": "python",
   "name": "python3"
  },
  "language_info": {
   "codemirror_mode": {
    "name": "ipython",
    "version": 3
   },
   "file_extension": ".py",
   "mimetype": "text/x-python",
   "name": "python",
   "nbconvert_exporter": "python",
   "pygments_lexer": "ipython3",
   "version": "3.11.4"
  }
 },
 "nbformat": 4,
 "nbformat_minor": 5
}
