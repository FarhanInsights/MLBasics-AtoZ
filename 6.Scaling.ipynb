{
 "cells": [
  {
   "cell_type": "code",
   "execution_count": 2,
   "id": "2aa54b87-c668-4f98-ae61-12714b90b44a",
   "metadata": {},
   "outputs": [],
   "source": [
    "import numpy as np\n",
    "from sklearn.preprocessing import MinMaxScaler"
   ]
  },
  {
   "cell_type": "code",
   "execution_count": 5,
   "id": "9e7c4472-20d3-422e-97c9-599e0e7da57a",
   "metadata": {},
   "outputs": [],
   "source": [
    "np.random.seed(42)\n",
    "data = np.random.rand(100,1) * 100 + 500"
   ]
  },
  {
   "cell_type": "code",
   "execution_count": 6,
   "id": "2e5e4a60-6ce8-4993-b0d1-f4505901021e",
   "metadata": {},
   "outputs": [],
   "source": [
    "scaler = MinMaxScaler()\n",
    "scaled_data = scaler.fit_transform(data)"
   ]
  },
  {
   "cell_type": "code",
   "execution_count": 9,
   "id": "52fb3fcf-624e-4119-b60a-7b754de4e0fd",
   "metadata": {},
   "outputs": [
    {
     "name": "stdout",
     "output_type": "stream",
     "text": [
      "original Data :\n",
      "[[537.45401188]\n",
      " [595.07143064]\n",
      " [573.19939418]\n",
      " [559.86584842]\n",
      " [515.60186404]]\n",
      "\n",
      "Scaled Data:\n",
      "[[0.3760253 ]\n",
      " [0.96314049]\n",
      " [0.74026683]\n",
      " [0.60439946]\n",
      " [0.15335431]]\n"
     ]
    }
   ],
   "source": [
    "print(\"original Data :\")\n",
    "print(data[:5])\n",
    "print(\"\\nScaled Data:\")\n",
    "print(scaled_data[:5])"
   ]
  },
  {
   "cell_type": "code",
   "execution_count": null,
   "id": "5caa69a9-6cac-47d9-88a2-7e37310b9cea",
   "metadata": {},
   "outputs": [],
   "source": []
  }
 ],
 "metadata": {
  "kernelspec": {
   "display_name": "Python 3 (ipykernel)",
   "language": "python",
   "name": "python3"
  },
  "language_info": {
   "codemirror_mode": {
    "name": "ipython",
    "version": 3
   },
   "file_extension": ".py",
   "mimetype": "text/x-python",
   "name": "python",
   "nbconvert_exporter": "python",
   "pygments_lexer": "ipython3",
   "version": "3.11.4"
  }
 },
 "nbformat": 4,
 "nbformat_minor": 5
}
